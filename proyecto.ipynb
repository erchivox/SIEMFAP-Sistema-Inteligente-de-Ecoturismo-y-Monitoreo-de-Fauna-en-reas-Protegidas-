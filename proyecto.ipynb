{
  "cells": [
    {
      "cell_type": "markdown",
      "metadata": {
        "id": "view-in-github",
        "colab_type": "text"
      },
      "source": [
        "<a href=\"https://colab.research.google.com/github/erchivox/SIEMFAP-Sistema-Inteligente-de-Ecoturismo-y-Monitoreo-de-Fauna-en-reas-Protegidas-/blob/main/proyecto.ipynb\" target=\"_parent\"><img src=\"https://colab.research.google.com/assets/colab-badge.svg\" alt=\"Open In Colab\"/></a>"
      ]
    },
    {
      "cell_type": "code",
      "source": [
        "from google.colab import drive\n",
        "drive.mount('/content/drive')"
      ],
      "metadata": {
        "id": "tN-R5B5LFFry"
      },
      "execution_count": null,
      "outputs": []
    },
    {
      "cell_type": "markdown",
      "source": [
        "estamos actualizando la base de datos para mejorar el modelo"
      ],
      "metadata": {
        "id": "tKOP3iXxSN1B"
      }
    },
    {
      "cell_type": "code",
      "source": [
        "import tensorflow as tf\n",
        "from tensorflow.keras.applications import VGG16\n",
        "from tensorflow.keras.preprocessing.image import ImageDataGenerator\n",
        "from tensorflow.keras.layers import Dense, Flatten, Dropout\n",
        "from tensorflow.keras.models import Model\n",
        "from tensorflow.keras.optimizers import Adam\n",
        "\n",
        "\n",
        "#carga del modelo VGG16 preentrenado\n",
        "base_model = VGG16(weights='imagenet', include_top=False, input_shape=(224, 224, 3))\n",
        "\n",
        "#congelar las capas del modelo base\n",
        "for layer in base_model.layers:\n",
        "    layer.trainable = False\n",
        "\n",
        "#agregar capas personalizadas encima del modelo base\n",
        "x = base_model.output\n",
        "x = Flatten()(x)  # Aplanar la salida\n",
        "x = Dense(256, activation='relu')(x)\n",
        "x = Dropout(0.5)(x)  #apagar el 50% de las neuronas y evitar sobreajuste\n",
        "predictions = Dense( , activation='softmax')(x)  #estamos desidiendo las categorias que tendra\n",
        "\n",
        "# Definir el modelo final\n",
        "model = Model(inputs=base_model.input, outputs=predictions)\n",
        "\n",
        "# Compilar el modelo\n",
        "model.compile(optimizer=Adam(learning_rate=0.0001), loss='categorical_crossentropy', metrics=['accuracy'])\n",
        "\n",
        "# Crear generadores de datos para entrenamiento y validación\n",
        "train_datagen = ImageDataGenerator(\n",
        "    rescale=1./255,\n",
        "    shear_range=0.2,\n",
        "    zoom_range=0.2,\n",
        "    horizontal_flip=True)\n",
        "\n",
        "validation_datagen = ImageDataGenerator(rescale=1./255)\n",
        "\n",
        "# Definir las rutas a tus carpetas de entrenamiento y validación (por definir)\n",
        "train_dir = ''\n",
        "validation_dir = ''\n",
        "\n",
        "# Generador para el conjunto de entrenamiento\n",
        "train_generator = train_datagen.flow_from_directory(\n",
        "    train_dir,\n",
        "    target_size=(224, 224),\n",
        "    batch_size=32,\n",
        "    class_mode='categorical',\n",
        "    color_mode=\"rgb\")\n",
        "\n",
        "# Generador para el conjunto de validación\n",
        "validation_generator = validation_datagen.flow_from_directory(\n",
        "    validation_dir,\n",
        "    target_size=(224, 224),\n",
        "    batch_size=32,\n",
        "    class_mode='categorical',\n",
        "    color_mode=\"rgb\")\n",
        "\n",
        "print(\"Clases en entrenamiento:\", train_generator.class_indices)\n",
        "print(\"Clases en validación:\", validation_generator.class_indices)\n",
        "\n",
        "# entrenamiento de la ultima capa\n",
        "model.fit(\n",
        "    train_generator,\n",
        "    steps_per_epoch=max(1, train_generator.samples // train_generator.batch_size),\n",
        "    validation_data=validation_generator,\n",
        "    validation_steps=max(1, validation_generator.samples // validation_generator.batch_size),\n",
        "    epochs=20)\n",
        "\n",
        "# Guardar el modelo entrenado\n",
        "drive.mount('/content/drive')\n",
        "model.save('/content/drive/MyDrive/Modelos/modelo_clasificador_vgg16_v1.h5')\n"
      ],
      "metadata": {
        "id": "WTXshjNWPZoa"
      },
      "execution_count": null,
      "outputs": []
    }
  ],
  "metadata": {
    "accelerator": "GPU",
    "colab": {
      "gpuType": "T4",
      "provenance": [],
      "include_colab_link": true
    },
    "kernelspec": {
      "display_name": "Python 3",
      "name": "python3"
    },
    "language_info": {
      "name": "python"
    }
  },
  "nbformat": 4,
  "nbformat_minor": 0
}